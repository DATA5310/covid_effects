{
 "cells": [
  {
   "cell_type": "code",
   "execution_count": 1,
   "id": "431fff99",
   "metadata": {},
   "outputs": [],
   "source": [
    "import git\n",
    "import pandas as pd"
   ]
  },
  {
   "cell_type": "code",
   "execution_count": 2,
   "id": "9215d045",
   "metadata": {},
   "outputs": [],
   "source": [
    "repo = git.Repo(\".\", search_parent_directories=True).working_tree_dir\n",
    "cdi_raw_path = f\"{repo}/datasets/raw/U.S._Chronic_Disease_Indicators_2023.csv\"\n",
    "cdi_processed_path = f\"{repo}/datasets/processed/cdi.csv\""
   ]
  },
  {
   "cell_type": "code",
   "execution_count": 3,
   "id": "04ba9b4f",
   "metadata": {},
   "outputs": [
    {
     "name": "stderr",
     "output_type": "stream",
     "text": [
      "/var/folders/_d/ncq1_ycx743dwrbgqss9z7hr0000gn/T/ipykernel_10277/579433409.py:14: DtypeWarning: Columns (10) have mixed types. Specify dtype option on import or set low_memory=False.\n",
      "  cdi_df = pd.read_csv(\n"
     ]
    }
   ],
   "source": [
    "cdi_cols = [\n",
    "    \"YearStart\",\n",
    "    \"YearEnd\",\n",
    "    \"LocationAbbr\",\n",
    "    \"Topic\",\n",
    "    \"Question\",\n",
    "    \"DataValueUnit\",\n",
    "    \"DataValueType\",\n",
    "    \"DataValue\",\n",
    "    \"StratificationCategory1\",\n",
    "    \"Stratification1\",\n",
    "]\n",
    "\n",
    "cdi_df = pd.read_csv(\n",
    "    cdi_raw_path,\n",
    "    usecols=cdi_cols,\n",
    "    # na_values=[\"Unreliable\"],\n",
    ")"
   ]
  },
  {
   "cell_type": "code",
   "execution_count": 4,
   "id": "dcb15c6c",
   "metadata": {},
   "outputs": [],
   "source": [
    "cdi_filters = {\n",
    "    \"Topic\": [\n",
    "        \"Cancer\",\n",
    "        \"Cardiovascular Disease\",\n",
    "        \"Chronic Kidney Disease\",\n",
    "        \"Chronic Obstructive Pulmonary Disease\",\n",
    "    ],\n",
    "    \"DataValueType\": [\n",
    "        \"Number\",\n",
    "        \"Crude Prevalence\",\n",
    "        \"Age-adjusted Prevalence\",\n",
    "        \"Average Annual Number\",\n",
    "        \"Average Annual Age-adjusted Rate\",\n",
    "        \"Average Annual Crude Rate\",\n",
    "    ],\n",
    "}\n",
    "\n",
    "cdi_dtype = {\n",
    "    \"YearStart\": \"category\",\n",
    "    \"YearEnd\": \"category\",\n",
    "    \"LocationAbbr\": \"category\",\n",
    "    \"Topic\": \"category\",\n",
    "    \"Question\": \"category\",\n",
    "    \"DataValueUnit\": \"category\",\n",
    "    \"DataValueType\": \"category\",\n",
    "    \"DataValue\": \"Float32\",\n",
    "    \"StratificationCategory1\": \"category\",\n",
    "    \"Stratification1\": \"category\",\n",
    "}\n",
    "\n",
    "for column, allowed_values in cdi_filters.items():\n",
    "    cdi_df = cdi_df[cdi_df[column].isin(allowed_values)]\n",
    "\n",
    "for column, dtype in cdi_dtype.items():\n",
    "    cdi_df[column] = cdi_df[column].astype(dtype)"
   ]
  },
  {
   "cell_type": "code",
   "execution_count": 5,
   "id": "01942b20",
   "metadata": {},
   "outputs": [
    {
     "name": "stdout",
     "output_type": "stream",
     "text": [
      "<class 'pandas.core.frame.DataFrame'>\n",
      "Index: 380798 entries, 29 to 1185662\n",
      "Data columns (total 10 columns):\n",
      " #   Column                   Non-Null Count   Dtype   \n",
      "---  ------                   --------------   -----   \n",
      " 0   YearStart                380798 non-null  category\n",
      " 1   YearEnd                  380798 non-null  category\n",
      " 2   LocationAbbr             380798 non-null  category\n",
      " 3   Topic                    380798 non-null  category\n",
      " 4   Question                 380798 non-null  category\n",
      " 5   DataValueUnit            266200 non-null  category\n",
      " 6   DataValueType            380798 non-null  category\n",
      " 7   DataValue                262370 non-null  Float32 \n",
      " 8   StratificationCategory1  380798 non-null  category\n",
      " 9   Stratification1          380798 non-null  category\n",
      "dtypes: Float32(1), category(9)\n",
      "memory usage: 8.0 MB\n"
     ]
    }
   ],
   "source": [
    "cdi_df.info()"
   ]
  },
  {
   "cell_type": "code",
   "execution_count": 6,
   "id": "4d47941f",
   "metadata": {},
   "outputs": [],
   "source": [
    "cdi_df = cdi_df.sort_values([\"YearEnd\", \"Topic\", \"Question\", \"LocationAbbr\"])\n",
    "cdi_df.to_csv(cdi_processed_path, index=False)"
   ]
  }
 ],
 "metadata": {
  "kernelspec": {
   "display_name": "covid_effects",
   "language": "python",
   "name": "python3"
  },
  "language_info": {
   "codemirror_mode": {
    "name": "ipython",
    "version": 3
   },
   "file_extension": ".py",
   "mimetype": "text/x-python",
   "name": "python",
   "nbconvert_exporter": "python",
   "pygments_lexer": "ipython3",
   "version": "3.11.10"
  }
 },
 "nbformat": 4,
 "nbformat_minor": 5
}
