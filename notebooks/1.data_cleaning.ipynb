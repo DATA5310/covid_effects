{
 "cells": [
  {
   "cell_type": "code",
   "execution_count": 1,
   "id": "431fff99",
   "metadata": {},
   "outputs": [],
   "source": [
    "import git\n",
    "import pandas as pd"
   ]
  },
  {
   "cell_type": "code",
   "execution_count": 2,
   "id": "9215d045",
   "metadata": {},
   "outputs": [],
   "source": [
    "repo = git.Repo(\".\", search_parent_directories=True).working_tree_dir\n",
    "cdi_raw_path = f\"{repo}/datasets/raw/U.S._Chronic_Disease_Indicators_2023.csv\""
   ]
  },
  {
   "cell_type": "code",
   "execution_count": 3,
   "id": "04ba9b4f",
   "metadata": {},
   "outputs": [
    {
     "name": "stderr",
     "output_type": "stream",
     "text": [
      "/var/folders/_d/ncq1_ycx743dwrbgqss9z7hr0000gn/T/ipykernel_99532/2299651428.py:16: DtypeWarning: Columns (10) have mixed types. Specify dtype option on import or set low_memory=False.\n",
      "  cdi_df = pd.read_csv(\n"
     ]
    }
   ],
   "source": [
    "cdi_processed_path = f\"{repo}/datasets/processed/cdi.csv\"\n",
    "\n",
    "cdi_cols = [\n",
    "    \"YearStart\",\n",
    "    \"YearEnd\",\n",
    "    \"LocationAbbr\",\n",
    "    \"Topic\",\n",
    "    \"Question\",\n",
    "    \"DataValueUnit\",\n",
    "    \"DataValueType\",\n",
    "    \"DataValue\",\n",
    "    \"StratificationCategory1\",\n",
    "    \"Stratification1\",\n",
    "]\n",
    "\n",
    "cdi_df = pd.read_csv(\n",
    "    cdi_raw_path,\n",
    "    usecols=cdi_cols,\n",
    ")\n",
    "\n",
    "cdi_filters = {\n",
    "    \"Topic\": [\n",
    "        \"Cancer\",\n",
    "        \"Cardiovascular Disease\",\n",
    "        \"Chronic Kidney Disease\",\n",
    "        \"Chronic Obstructive Pulmonary Disease\",\n",
    "    ],\n",
    "    \"DataValueType\": [\n",
    "        \"Number\",\n",
    "        \"Crude Prevalence\",\n",
    "        \"Age-adjusted Prevalence\",\n",
    "        \"Average Annual Number\",\n",
    "        \"Average Annual Age-adjusted Rate\",\n",
    "        \"Average Annual Crude Rate\",\n",
    "    ],\n",
    "}\n",
    "\n",
    "cdi_dtype = {\n",
    "    \"YearStart\": \"category\",\n",
    "    \"YearEnd\": \"category\",\n",
    "    \"LocationAbbr\": \"category\",\n",
    "    \"Topic\": \"category\",\n",
    "    \"Question\": \"category\",\n",
    "    \"DataValueUnit\": \"category\",\n",
    "    \"DataValueType\": \"category\",\n",
    "    \"DataValue\": \"Float32\",\n",
    "    \"StratificationCategory1\": \"category\",\n",
    "    \"Stratification1\": \"category\",\n",
    "}\n",
    "\n",
    "for column, allowed_values in cdi_filters.items():\n",
    "    cdi_df = cdi_df[cdi_df[column].isin(allowed_values)]\n",
    "\n",
    "for column, dtype in cdi_dtype.items():\n",
    "    cdi_df[column] = cdi_df[column].astype(dtype)\n",
    "\n",
    "cdi_df = cdi_df.sort_values([\"YearEnd\", \"Topic\", \"Question\", \"LocationAbbr\"])\n",
    "cdi_df.to_csv(cdi_processed_path, index=False)"
   ]
  },
  {
   "cell_type": "code",
   "execution_count": null,
   "id": "45713ff5",
   "metadata": {},
   "outputs": [
    {
     "name": "stderr",
     "output_type": "stream",
     "text": [
      "/var/folders/_d/ncq1_ycx743dwrbgqss9z7hr0000gn/T/ipykernel_99532/3856151939.py:14: DtypeWarning: Columns (10) have mixed types. Specify dtype option on import or set low_memory=False.\n",
      "  cdi_us_overall_df = pd.read_csv(\n"
     ]
    }
   ],
   "source": [
    "cdi_us_overall_processed_path = f\"{repo}/datasets/processed/cdi_us_overall.csv\"\n",
    "\n",
    "cdi_us_overall_cols = [\n",
    "    \"YearEnd\",\n",
    "    \"LocationAbbr\",\n",
    "    \"Topic\",\n",
    "    \"Question\",\n",
    "    \"DataValueUnit\",\n",
    "    \"DataValueType\",\n",
    "    \"DataValue\",\n",
    "    \"StratificationCategory1\",\n",
    "]\n",
    "\n",
    "cdi_us_overall_df = pd.read_csv(\n",
    "    cdi_raw_path,\n",
    "    usecols=cdi_us_overall_cols,\n",
    ")\n",
    "\n",
    "cdi_us_overall_filters = {\n",
    "    \"Topic\": [\n",
    "        \"Chronic Kidney Disease\",\n",
    "        \"Chronic Obstructive Pulmonary Disease\",\n",
    "    ],\n",
    "    \"DataValueType\": [\n",
    "        \"Number\",\n",
    "        \"Crude Prevalence\",\n",
    "        \"Age-adjusted Prevalence\",\n",
    "    ],\n",
    "    \"LocationAbbr\": [\"US\"],\n",
    "    \"StratificationCategory1\": [\"Overall\"],\n",
    "}\n",
    "\n",
    "cdi_us_overall_dropped_cols = [\"LocationAbbr\", \"StratificationCategory1\"]\n",
    "\n",
    "cdi_us_overall_dtype = {\n",
    "    \"YearEnd\": \"category\",\n",
    "    \"Topic\": \"category\",\n",
    "    \"Question\": \"category\",\n",
    "    \"DataValueUnit\": \"category\",\n",
    "    \"DataValueType\": \"category\",\n",
    "    \"DataValue\": \"Float32\",\n",
    "}\n",
    "\n",
    "# Filter data\n",
    "for column, allowed_values in cdi_us_overall_filters.items():\n",
    "    cdi_us_overall_df = cdi_us_overall_df[\n",
    "        cdi_us_overall_df[column].isin(allowed_values)\n",
    "    ]\n",
    "\n",
    "# Drop single-value columns (like US)\n",
    "cdi_us_overall_df = cdi_us_overall_df.drop(columns=cdi_us_overall_dropped_cols)\n",
    "\n",
    "# Set types\n",
    "for column, dtype in cdi_us_overall_dtype.items():\n",
    "    cdi_us_overall_df[column] = cdi_us_overall_df[column].astype(dtype)\n",
    "\n",
    "cdi_us_overall_df = cdi_us_overall_df.sort_values([\"YearEnd\", \"Topic\", \"Question\"])\n",
    "cdi_us_overall_df.to_csv(cdi_us_overall_processed_path, index=False)"
   ]
  }
 ],
 "metadata": {
  "kernelspec": {
   "display_name": "covid_effects",
   "language": "python",
   "name": "python3"
  },
  "language_info": {
   "codemirror_mode": {
    "name": "ipython",
    "version": 3
   },
   "file_extension": ".py",
   "mimetype": "text/x-python",
   "name": "python",
   "nbconvert_exporter": "python",
   "pygments_lexer": "ipython3",
   "version": "3.11.10"
  }
 },
 "nbformat": 4,
 "nbformat_minor": 5
}
