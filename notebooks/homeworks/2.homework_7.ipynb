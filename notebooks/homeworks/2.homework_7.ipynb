{
 "cells": [
  {
   "cell_type": "markdown",
   "metadata": {},
   "source": [
    "# Homework 7 - Devin Lim, Duong Le, Lakshit Gupta, Ponnu Soman\n",
    "\n",
    "Tasks are tracked here: https://github.com/DATA5310/covid_effects/milestone/4"
   ]
  },
  {
   "cell_type": "code",
   "execution_count": 1,
   "metadata": {},
   "outputs": [],
   "source": [
    "import git\n",
    "import pandas as pd"
   ]
  },
  {
   "cell_type": "markdown",
   "metadata": {},
   "source": [
    "## Load the Data"
   ]
  },
  {
   "cell_type": "code",
   "execution_count": 2,
   "metadata": {},
   "outputs": [],
   "source": [
    "repo = git.Repo(\".\", search_parent_directories=True).working_tree_dir\n",
    "cdi_processed_path = f\"{repo}/datasets/processed/cdi.csv\""
   ]
  },
  {
   "cell_type": "code",
   "execution_count": null,
   "metadata": {},
   "outputs": [],
   "source": [
    "cdi_dtype = {\n",
    "    \"YearStart\": \"category\",\n",
    "    \"YearEnd\": \"category\",\n",
    "    \"LocationAbbr\": \"category\",\n",
    "    \"Topic\": \"category\",\n",
    "    \"Question\": \"category\",\n",
    "    \"DataValueUnit\": \"category\",\n",
    "    \"DataValueType\": \"category\",\n",
    "    \"DataValue\": \"Float32\",\n",
    "    \"StratificationCategory1\": \"category\",\n",
    "    \"Stratification1\": \"category\",\n",
    "}\n",
    "\n",
    "cdi_df = pd.read_csv(cdi_processed_path, dtype=cdi_dtype)"
   ]
  },
  {
   "cell_type": "markdown",
   "metadata": {},
   "source": [
    "## Activity 1\n",
    "\n",
    "Start by thinking about what the story is that you want to tell with your dataset. Write a paragraph describing what questions you want to investigate with your data, or what messages you want to convey using the data. Note that, as we progress with the projects, the story you want to tell may change. It's okay if you come back later and revise or update this. But describe what, at the moment, you think your story will be."
   ]
  },
  {
   "cell_type": "markdown",
   "metadata": {},
   "source": [
    "## Activity 2\n",
    "\n",
    "Create a list of which variables in your dataset will be valuable to summarize individually.\n",
    "\n",
    "For each of these variables in this list, specify one or more possible ways that it could be visualized.  \n",
    "\n",
    "For each of these variables in this list, either create the visualization(s) you have specified, or identify what is needed before you can do so (this could be a matter of needing some data wrangling to be completed, seeking out supplemental data to merge with your dataset, or needing to learn how to do something in R beyond what we have learned so far). "
   ]
  },
  {
   "cell_type": "markdown",
   "metadata": {},
   "source": [
    "## Activity 3\n",
    "\n",
    "Next, we want to think combinations of variables that could be of interest. \n",
    "\n",
    "Create a list of combinations of two or more variables that could be of interest to examine (this may not end up being the entirety of what you look at - as we move forward, you might decide to drop some of these, or to look at additional combinations). \n",
    "\n",
    "For each of these combinations of variables in this list, specify one or more possible ways that it could be visualized.  \n",
    "\n",
    "For each of these combinations of variables in this list, either create the visualization(s) you have specified, or identify what is needed before you can do so (again, this could be a matter of needing some data wrangling to be completed, seeking out supplemental data to merge with your dataset, or needing to learn how to do something in R beyond what we have learned so far). \n",
    "\n",
    " \n",
    "\n",
    "You can divide up tasks for this, so that each person is focusing on just a few of the visualizations. Remember that for your final submission at the end of the quarter, you will be describing what you each contributed to the project, so make sure that everyone has an opportunity to make approximately equal contributions in this assignment. "
   ]
  }
 ],
 "metadata": {
  "kernelspec": {
   "display_name": "covid_effects",
   "language": "python",
   "name": "python3"
  },
  "language_info": {
   "codemirror_mode": {
    "name": "ipython",
    "version": 3
   },
   "file_extension": ".py",
   "mimetype": "text/x-python",
   "name": "python",
   "nbconvert_exporter": "python",
   "pygments_lexer": "ipython3",
   "version": "3.11.10"
  }
 },
 "nbformat": 4,
 "nbformat_minor": 2
}
